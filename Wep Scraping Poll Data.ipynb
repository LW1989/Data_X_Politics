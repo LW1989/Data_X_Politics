{
 "cells": [
  {
   "cell_type": "markdown",
   "metadata": {},
   "source": [
    "With the help of this script we can scrapping poll data from all available instute within germany\n"
   ]
  },
  {
   "cell_type": "code",
   "execution_count": 122,
   "metadata": {
    "scrolled": false
   },
   "outputs": [],
   "source": [
    "import requests\n",
    "\n",
    "website_url = requests.get('https://www.wahlrecht.de/umfragen/allensbach.htm').text\n",
    "\n",
    "from bs4 import BeautifulSoup\n",
    "soup = BeautifulSoup(website_url,'lxml')\n",
    "\n",
    "my_table = soup.find('table',{'class':'wilko'})\n",
    "\n",
    "header=[]\n",
    "for th in my_table.thead.find_all(\"th\"):\n",
    "    header.append(th.get_text())\n",
    "    for d in range(len(header)):\n",
    "                if header[d]=='\\xa0':\n",
    "                    del header[d]\n",
    "\n",
    "header.insert(0,'Datum')\n",
    "\n",
    "table_data = []\n",
    "for tr in my_table.tbody.find_all(\"tr\"): \n",
    "    t_row=[]\n",
    "        \n",
    "    for td in tr.find_all(\"td\"): \n",
    "            t_row.append(td.get_text())\n",
    "            for d in range(len(t_row)):\n",
    "                if t_row[d]=='\\xa0':\n",
    "                    del t_row[d]\n",
    "    \n",
    "    table_data.append(t_row)\n",
    "table_data.insert(0,header)\n",
    "\n",
    "row_not_equal_header_len=[]\n",
    "\n",
    "for l in range(len(table_data)):\n",
    "    if len(table_data[l]) != len(header):\n",
    "        row_not_equal_header_len.append(l)\n",
    "    \n",
    "#print(row_not_equal_header_len) # index of row in table_data that are not qually long as header\n",
    "\n",
    "#delete row if necessary\n",
    "del table_data[83]\n",
    "del table_data[32]"
   ]
  },
  {
   "cell_type": "code",
   "execution_count": null,
   "metadata": {},
   "outputs": [],
   "source": []
  },
  {
   "cell_type": "code",
   "execution_count": null,
   "metadata": {},
   "outputs": [],
   "source": []
  },
  {
   "cell_type": "code",
   "execution_count": null,
   "metadata": {},
   "outputs": [],
   "source": []
  }
 ],
 "metadata": {
  "kernelspec": {
   "display_name": "Python 3",
   "language": "python",
   "name": "python3"
  },
  "language_info": {
   "codemirror_mode": {
    "name": "ipython",
    "version": 3
   },
   "file_extension": ".py",
   "mimetype": "text/x-python",
   "name": "python",
   "nbconvert_exporter": "python",
   "pygments_lexer": "ipython3",
   "version": "3.7.6"
  }
 },
 "nbformat": 4,
 "nbformat_minor": 4
}
